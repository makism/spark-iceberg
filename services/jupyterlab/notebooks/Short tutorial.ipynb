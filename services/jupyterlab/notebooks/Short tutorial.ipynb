{
 "cells": [
  {
   "cell_type": "code",
   "execution_count": 1,
   "id": "7a43354f-a230-4af1-b7a7-46a152ccc145",
   "metadata": {
    "execution": {
     "iopub.execute_input": "2023-12-07T21:40:44.504798Z",
     "iopub.status.busy": "2023-12-07T21:40:44.504491Z",
     "iopub.status.idle": "2023-12-07T21:40:44.719533Z",
     "shell.execute_reply": "2023-12-07T21:40:44.718711Z",
     "shell.execute_reply.started": "2023-12-07T21:40:44.504768Z"
    },
    "tags": []
   },
   "outputs": [],
   "source": [
    "import os\n",
    "import pyspark\n",
    "from pyspark.sql import SparkSession\n",
    "import pyspark.sql.functions as F"
   ]
  },
  {
   "cell_type": "code",
   "execution_count": 2,
   "id": "49ad55da-4ce9-483c-81cd-7f9d060972c1",
   "metadata": {
    "execution": {
     "iopub.execute_input": "2023-12-07T21:40:45.282018Z",
     "iopub.status.busy": "2023-12-07T21:40:45.279103Z",
     "iopub.status.idle": "2023-12-07T21:40:45.297188Z",
     "shell.execute_reply": "2023-12-07T21:40:45.295576Z",
     "shell.execute_reply.started": "2023-12-07T21:40:45.281863Z"
    },
    "tags": []
   },
   "outputs": [],
   "source": [
    "conf = (\n",
    "    pyspark.SparkConf()\n",
    "        .setAppName('app_name')\n",
    "        .set(\"spark.sql.execution.pyarrow.enabled\", \"true\")\n",
    "        .set(\"spark.jars.packages\", \"org.apache.iceberg:iceberg-spark-runtime-3.2_2.12:1.4.2\")\n",
    "        .set('spark.sql.catalog.spark_catalog', 'org.apache.iceberg.spark.SparkCatalog')\n",
    "        .set('spark.sql.catalog.spark_catalog.type', 'hive')\n",
    "        .set('spark.sql.catalog.local', 'org.apache.iceberg.spark.SparkCatalog')\n",
    "        .set('spark.sql.catalog.local.type', 'hadoop')\n",
    "        .set('spark.sql.catalog.local.warehouse', '/warehouse/')\n",
    "        .set(\"spark.sql.catalog.defaultCatalog\", 'local')\n",
    "        .set(\"spark.sql.extensions\",\"org.apache.iceberg.spark.extensions.IcebergSparkSessionExtensions\")\n",
    ")"
   ]
  },
  {
   "cell_type": "code",
   "execution_count": 3,
   "id": "81b46939-8813-4acc-a220-02d29879770f",
   "metadata": {
    "execution": {
     "iopub.execute_input": "2023-12-07T21:40:45.823999Z",
     "iopub.status.busy": "2023-12-07T21:40:45.823538Z",
     "iopub.status.idle": "2023-12-07T21:40:49.735492Z",
     "shell.execute_reply": "2023-12-07T21:40:49.734725Z",
     "shell.execute_reply.started": "2023-12-07T21:40:45.823955Z"
    },
    "tags": []
   },
   "outputs": [
    {
     "name": "stdout",
     "output_type": "stream",
     "text": [
      ":: loading settings :: url = jar:file:/usr/local/lib/python3.10/dist-packages/pyspark/jars/ivy-2.5.1.jar!/org/apache/ivy/core/settings/ivysettings.xml\n"
     ]
    },
    {
     "name": "stderr",
     "output_type": "stream",
     "text": [
      "Ivy Default Cache set to: /root/.ivy2/cache\n",
      "The jars for the packages stored in: /root/.ivy2/jars\n",
      "org.apache.iceberg#iceberg-spark-runtime-3.2_2.12 added as a dependency\n",
      ":: resolving dependencies :: org.apache.spark#spark-submit-parent-036495d9-6b2b-4fa9-bfcb-c066fe49677f;1.0\n",
      "\tconfs: [default]\n",
      "\tfound org.apache.iceberg#iceberg-spark-runtime-3.2_2.12;1.4.2 in central\n",
      ":: resolution report :: resolve 106ms :: artifacts dl 7ms\n",
      "\t:: modules in use:\n",
      "\torg.apache.iceberg#iceberg-spark-runtime-3.2_2.12;1.4.2 from central in [default]\n",
      "\t---------------------------------------------------------------------\n",
      "\t|                  |            modules            ||   artifacts   |\n",
      "\t|       conf       | number| search|dwnlded|evicted|| number|dwnlded|\n",
      "\t---------------------------------------------------------------------\n",
      "\t|      default     |   1   |   0   |   0   |   0   ||   1   |   0   |\n",
      "\t---------------------------------------------------------------------\n",
      ":: retrieving :: org.apache.spark#spark-submit-parent-036495d9-6b2b-4fa9-bfcb-c066fe49677f\n",
      "\tconfs: [default]\n",
      "\t0 artifacts copied, 1 already retrieved (0kB/7ms)\n",
      "23/12/07 21:40:47 WARN NativeCodeLoader: Unable to load native-hadoop library for your platform... using builtin-java classes where applicable\n",
      "Using Spark's default log4j profile: org/apache/spark/log4j-defaults.properties\n",
      "Setting default log level to \"WARN\".\n",
      "To adjust logging level use sc.setLogLevel(newLevel). For SparkR, use setLogLevel(newLevel).\n"
     ]
    }
   ],
   "source": [
    "spark = SparkSession.builder.config(conf=conf).getOrCreate()"
   ]
  },
  {
   "cell_type": "code",
   "execution_count": 4,
   "id": "e8721a55-7bac-44db-afad-ea8806e334ba",
   "metadata": {
    "execution": {
     "iopub.execute_input": "2023-12-07T21:40:49.737051Z",
     "iopub.status.busy": "2023-12-07T21:40:49.736699Z",
     "iopub.status.idle": "2023-12-07T21:40:49.747501Z",
     "shell.execute_reply": "2023-12-07T21:40:49.746515Z",
     "shell.execute_reply.started": "2023-12-07T21:40:49.737018Z"
    },
    "tags": []
   },
   "outputs": [
    {
     "data": {
      "text/html": [
       "\n",
       "            <div>\n",
       "                <p><b>SparkSession - in-memory</b></p>\n",
       "                \n",
       "        <div>\n",
       "            <p><b>SparkContext</b></p>\n",
       "\n",
       "            <p><a href=\"http://1074491ed529:4040\">Spark UI</a></p>\n",
       "\n",
       "            <dl>\n",
       "              <dt>Version</dt>\n",
       "                <dd><code>v3.2.4</code></dd>\n",
       "              <dt>Master</dt>\n",
       "                <dd><code>local[*]</code></dd>\n",
       "              <dt>AppName</dt>\n",
       "                <dd><code>app_name</code></dd>\n",
       "            </dl>\n",
       "        </div>\n",
       "        \n",
       "            </div>\n",
       "        "
      ],
      "text/plain": [
       "<pyspark.sql.session.SparkSession at 0x7f3996d71cc0>"
      ]
     },
     "execution_count": 4,
     "metadata": {},
     "output_type": "execute_result"
    }
   ],
   "source": [
    "spark"
   ]
  },
  {
   "cell_type": "markdown",
   "id": "942c0fe9-7ade-4278-a90c-099a52fc89e6",
   "metadata": {},
   "source": [
    "# Prepare "
   ]
  },
  {
   "cell_type": "code",
   "execution_count": 5,
   "id": "039e36c1-225d-4904-ad65-7f65e06c4dba",
   "metadata": {
    "execution": {
     "iopub.execute_input": "2023-12-07T21:40:56.134668Z",
     "iopub.status.busy": "2023-12-07T21:40:56.134319Z",
     "iopub.status.idle": "2023-12-07T21:40:58.193841Z",
     "shell.execute_reply": "2023-12-07T21:40:58.192878Z",
     "shell.execute_reply.started": "2023-12-07T21:40:56.134634Z"
    },
    "tags": []
   },
   "outputs": [],
   "source": [
    "spark.sql(\"USE local;\");"
   ]
  },
  {
   "cell_type": "code",
   "execution_count": 6,
   "id": "6de80ed9-6cb5-45b5-ba60-ff82582932f7",
   "metadata": {
    "execution": {
     "iopub.execute_input": "2023-12-07T21:40:58.195670Z",
     "iopub.status.busy": "2023-12-07T21:40:58.195300Z",
     "iopub.status.idle": "2023-12-07T21:40:59.428944Z",
     "shell.execute_reply": "2023-12-07T21:40:59.428379Z",
     "shell.execute_reply.started": "2023-12-07T21:40:58.195632Z"
    },
    "tags": []
   },
   "outputs": [
    {
     "data": {
      "text/html": [
       "<div>\n",
       "<style scoped>\n",
       "    .dataframe tbody tr th:only-of-type {\n",
       "        vertical-align: middle;\n",
       "    }\n",
       "\n",
       "    .dataframe tbody tr th {\n",
       "        vertical-align: top;\n",
       "    }\n",
       "\n",
       "    .dataframe thead th {\n",
       "        text-align: right;\n",
       "    }\n",
       "</style>\n",
       "<table border=\"1\" class=\"dataframe\">\n",
       "  <thead>\n",
       "    <tr style=\"text-align: right;\">\n",
       "      <th></th>\n",
       "    </tr>\n",
       "  </thead>\n",
       "  <tbody>\n",
       "  </tbody>\n",
       "</table>\n",
       "</div>"
      ],
      "text/plain": [
       "Empty DataFrame\n",
       "Columns: []\n",
       "Index: []"
      ]
     },
     "execution_count": 6,
     "metadata": {},
     "output_type": "execute_result"
    }
   ],
   "source": [
    "spark.sql(\"\"\"\n",
    "CREATE TABLE IF NOT EXISTS taxis.trips(\n",
    "    vendor_id INT,\n",
    "    pickup_datetime TIMESTAMP,\n",
    "    dropoff_datetime TIMESTAMP,\n",
    "    passenger_count INT,\n",
    "    pickup_location_id INT,\n",
    "    dropoff_location_id INT,\n",
    "    fare_amount FLOAT\n",
    ")\n",
    "USING iceberg;\n",
    "\"\"\").toPandas()"
   ]
  },
  {
   "cell_type": "markdown",
   "id": "f662864e-c74f-4151-9ae1-66e1fbceb027",
   "metadata": {},
   "source": [
    "# Ingest first batch "
   ]
  },
  {
   "cell_type": "code",
   "execution_count": 7,
   "id": "c46aafa1-b0c6-4efe-b324-bcb2bce6e985",
   "metadata": {
    "execution": {
     "iopub.execute_input": "2023-12-07T21:40:59.430782Z",
     "iopub.status.busy": "2023-12-07T21:40:59.430130Z",
     "iopub.status.idle": "2023-12-07T21:41:01.230310Z",
     "shell.execute_reply": "2023-12-07T21:41:01.229360Z",
     "shell.execute_reply.started": "2023-12-07T21:40:59.430755Z"
    },
    "tags": []
   },
   "outputs": [
    {
     "data": {
      "text/html": [
       "<div>\n",
       "<style scoped>\n",
       "    .dataframe tbody tr th:only-of-type {\n",
       "        vertical-align: middle;\n",
       "    }\n",
       "\n",
       "    .dataframe tbody tr th {\n",
       "        vertical-align: top;\n",
       "    }\n",
       "\n",
       "    .dataframe thead th {\n",
       "        text-align: right;\n",
       "    }\n",
       "</style>\n",
       "<table border=\"1\" class=\"dataframe\">\n",
       "  <thead>\n",
       "    <tr style=\"text-align: right;\">\n",
       "      <th></th>\n",
       "    </tr>\n",
       "  </thead>\n",
       "  <tbody>\n",
       "  </tbody>\n",
       "</table>\n",
       "</div>"
      ],
      "text/plain": [
       "Empty DataFrame\n",
       "Columns: []\n",
       "Index: []"
      ]
     },
     "execution_count": 7,
     "metadata": {},
     "output_type": "execute_result"
    }
   ],
   "source": [
    "spark.sql(\"\"\"\n",
    "CREATE OR REPLACE TEMPORARY VIEW trips_table USING csv\n",
    "OPTIONS (path \"/data/yellow_tripdata_sample_2019_01.csv\", header true);\n",
    "\"\"\").toPandas()"
   ]
  },
  {
   "cell_type": "code",
   "execution_count": 8,
   "id": "c9773c91-f488-42ef-bd17-870239e9044a",
   "metadata": {
    "execution": {
     "iopub.execute_input": "2023-12-07T21:41:02.446911Z",
     "iopub.status.busy": "2023-12-07T21:41:02.446482Z",
     "iopub.status.idle": "2023-12-07T21:41:02.677151Z",
     "shell.execute_reply": "2023-12-07T21:41:02.676536Z",
     "shell.execute_reply.started": "2023-12-07T21:41:02.446871Z"
    },
    "tags": []
   },
   "outputs": [
    {
     "data": {
      "text/html": [
       "<div>\n",
       "<style scoped>\n",
       "    .dataframe tbody tr th:only-of-type {\n",
       "        vertical-align: middle;\n",
       "    }\n",
       "\n",
       "    .dataframe tbody tr th {\n",
       "        vertical-align: top;\n",
       "    }\n",
       "\n",
       "    .dataframe thead th {\n",
       "        text-align: right;\n",
       "    }\n",
       "</style>\n",
       "<table border=\"1\" class=\"dataframe\">\n",
       "  <thead>\n",
       "    <tr style=\"text-align: right;\">\n",
       "      <th></th>\n",
       "      <th>vendor_id</th>\n",
       "      <th>pickup_datetime</th>\n",
       "      <th>dropoff_datetime</th>\n",
       "      <th>passenger_count</th>\n",
       "      <th>pickup_location_id</th>\n",
       "      <th>dropoff_location_id</th>\n",
       "      <th>fare_amount</th>\n",
       "    </tr>\n",
       "  </thead>\n",
       "  <tbody>\n",
       "    <tr>\n",
       "      <th>0</th>\n",
       "      <td>1</td>\n",
       "      <td>2019-01-15 03:36:12</td>\n",
       "      <td>2019-01-15 03:42:19</td>\n",
       "      <td>1</td>\n",
       "      <td>230</td>\n",
       "      <td>48</td>\n",
       "      <td>6.5</td>\n",
       "    </tr>\n",
       "    <tr>\n",
       "      <th>1</th>\n",
       "      <td>1</td>\n",
       "      <td>2019-01-25 18:20:32</td>\n",
       "      <td>2019-01-25 18:26:55</td>\n",
       "      <td>1</td>\n",
       "      <td>112</td>\n",
       "      <td>112</td>\n",
       "      <td>6.0</td>\n",
       "    </tr>\n",
       "    <tr>\n",
       "      <th>2</th>\n",
       "      <td>1</td>\n",
       "      <td>2019-01-05 06:47:31</td>\n",
       "      <td>2019-01-05 06:52:19</td>\n",
       "      <td>1</td>\n",
       "      <td>107</td>\n",
       "      <td>4</td>\n",
       "      <td>6.0</td>\n",
       "    </tr>\n",
       "    <tr>\n",
       "      <th>3</th>\n",
       "      <td>1</td>\n",
       "      <td>2019-01-09 15:08:02</td>\n",
       "      <td>2019-01-09 15:20:17</td>\n",
       "      <td>1</td>\n",
       "      <td>143</td>\n",
       "      <td>158</td>\n",
       "      <td>11.0</td>\n",
       "    </tr>\n",
       "    <tr>\n",
       "      <th>4</th>\n",
       "      <td>1</td>\n",
       "      <td>2019-01-25 18:49:51</td>\n",
       "      <td>2019-01-25 18:56:44</td>\n",
       "      <td>1</td>\n",
       "      <td>246</td>\n",
       "      <td>90</td>\n",
       "      <td>6.5</td>\n",
       "    </tr>\n",
       "  </tbody>\n",
       "</table>\n",
       "</div>"
      ],
      "text/plain": [
       "  vendor_id      pickup_datetime     dropoff_datetime passenger_count  \\\n",
       "0         1  2019-01-15 03:36:12  2019-01-15 03:42:19               1   \n",
       "1         1  2019-01-25 18:20:32  2019-01-25 18:26:55               1   \n",
       "2         1  2019-01-05 06:47:31  2019-01-05 06:52:19               1   \n",
       "3         1  2019-01-09 15:08:02  2019-01-09 15:20:17               1   \n",
       "4         1  2019-01-25 18:49:51  2019-01-25 18:56:44               1   \n",
       "\n",
       "  pickup_location_id dropoff_location_id fare_amount  \n",
       "0                230                  48         6.5  \n",
       "1                112                 112         6.0  \n",
       "2                107                   4         6.0  \n",
       "3                143                 158        11.0  \n",
       "4                246                  90         6.5  "
      ]
     },
     "execution_count": 8,
     "metadata": {},
     "output_type": "execute_result"
    }
   ],
   "source": [
    "spark.sql(\"\"\"\n",
    "SELECT * FROM trips_table LIMIT 5;\n",
    "\"\"\").toPandas()"
   ]
  },
  {
   "cell_type": "code",
   "execution_count": 9,
   "id": "c8bf3ec9-5683-48f9-9c67-01cde3ad03f5",
   "metadata": {
    "execution": {
     "iopub.execute_input": "2023-12-07T21:41:04.933894Z",
     "iopub.status.busy": "2023-12-07T21:41:04.933564Z",
     "iopub.status.idle": "2023-12-07T21:41:06.179613Z",
     "shell.execute_reply": "2023-12-07T21:41:06.178963Z",
     "shell.execute_reply.started": "2023-12-07T21:41:04.933864Z"
    },
    "tags": []
   },
   "outputs": [
    {
     "name": "stderr",
     "output_type": "stream",
     "text": [
      "                                                                                \r"
     ]
    },
    {
     "data": {
      "text/html": [
       "<div>\n",
       "<style scoped>\n",
       "    .dataframe tbody tr th:only-of-type {\n",
       "        vertical-align: middle;\n",
       "    }\n",
       "\n",
       "    .dataframe tbody tr th {\n",
       "        vertical-align: top;\n",
       "    }\n",
       "\n",
       "    .dataframe thead th {\n",
       "        text-align: right;\n",
       "    }\n",
       "</style>\n",
       "<table border=\"1\" class=\"dataframe\">\n",
       "  <thead>\n",
       "    <tr style=\"text-align: right;\">\n",
       "      <th></th>\n",
       "    </tr>\n",
       "  </thead>\n",
       "  <tbody>\n",
       "  </tbody>\n",
       "</table>\n",
       "</div>"
      ],
      "text/plain": [
       "Empty DataFrame\n",
       "Columns: []\n",
       "Index: []"
      ]
     },
     "execution_count": 9,
     "metadata": {},
     "output_type": "execute_result"
    }
   ],
   "source": [
    "spark.sql(\"\"\"\n",
    "INSERT INTO taxis.trips\n",
    "SELECT \n",
    "    CAST(vendor_id AS INT),\n",
    "    CAST(pickup_datetime AS TIMESTAMP),\n",
    "    CAST(dropoff_datetime AS TIMESTAMP),\n",
    "    CAST(passenger_count AS INT),\n",
    "    CAST(pickup_location_id AS INT),\n",
    "    CAST(dropoff_location_id AS INT),\n",
    "    CAST(fare_amount AS FLOAT)\n",
    "FROM trips_table;\n",
    "\"\"\"\n",
    ").toPandas()"
   ]
  },
  {
   "cell_type": "code",
   "execution_count": 10,
   "id": "fe372747-049d-49d2-80c9-0c2cff5ff58c",
   "metadata": {
    "execution": {
     "iopub.execute_input": "2023-12-07T21:41:07.057608Z",
     "iopub.status.busy": "2023-12-07T21:41:07.056883Z",
     "iopub.status.idle": "2023-12-07T21:41:07.522144Z",
     "shell.execute_reply": "2023-12-07T21:41:07.521452Z",
     "shell.execute_reply.started": "2023-12-07T21:41:07.057544Z"
    },
    "tags": []
   },
   "outputs": [
    {
     "data": {
      "text/html": [
       "<div>\n",
       "<style scoped>\n",
       "    .dataframe tbody tr th:only-of-type {\n",
       "        vertical-align: middle;\n",
       "    }\n",
       "\n",
       "    .dataframe tbody tr th {\n",
       "        vertical-align: top;\n",
       "    }\n",
       "\n",
       "    .dataframe thead th {\n",
       "        text-align: right;\n",
       "    }\n",
       "</style>\n",
       "<table border=\"1\" class=\"dataframe\">\n",
       "  <thead>\n",
       "    <tr style=\"text-align: right;\">\n",
       "      <th></th>\n",
       "      <th>count(1)</th>\n",
       "    </tr>\n",
       "  </thead>\n",
       "  <tbody>\n",
       "    <tr>\n",
       "      <th>0</th>\n",
       "      <td>15</td>\n",
       "    </tr>\n",
       "  </tbody>\n",
       "</table>\n",
       "</div>"
      ],
      "text/plain": [
       "   count(1)\n",
       "0        15"
      ]
     },
     "execution_count": 10,
     "metadata": {},
     "output_type": "execute_result"
    }
   ],
   "source": [
    "spark.sql(\"SELECT COUNT(*) FROM taxis.trips;\").toPandas()"
   ]
  },
  {
   "cell_type": "markdown",
   "id": "df68dda2-8658-4328-a5b1-76c0dffe315e",
   "metadata": {},
   "source": [
    "# Prepare 2nd batch "
   ]
  },
  {
   "cell_type": "code",
   "execution_count": 11,
   "id": "d5f72e24-0f4c-400f-8bf3-5eb7a95fefe9",
   "metadata": {
    "execution": {
     "iopub.execute_input": "2023-12-07T21:42:06.950307Z",
     "iopub.status.busy": "2023-12-07T21:42:06.949374Z",
     "iopub.status.idle": "2023-12-07T21:42:07.265950Z",
     "shell.execute_reply": "2023-12-07T21:42:07.265270Z",
     "shell.execute_reply.started": "2023-12-07T21:42:06.950218Z"
    }
   },
   "outputs": [
    {
     "data": {
      "text/html": [
       "<div>\n",
       "<style scoped>\n",
       "    .dataframe tbody tr th:only-of-type {\n",
       "        vertical-align: middle;\n",
       "    }\n",
       "\n",
       "    .dataframe tbody tr th {\n",
       "        vertical-align: top;\n",
       "    }\n",
       "\n",
       "    .dataframe thead th {\n",
       "        text-align: right;\n",
       "    }\n",
       "</style>\n",
       "<table border=\"1\" class=\"dataframe\">\n",
       "  <thead>\n",
       "    <tr style=\"text-align: right;\">\n",
       "      <th></th>\n",
       "    </tr>\n",
       "  </thead>\n",
       "  <tbody>\n",
       "  </tbody>\n",
       "</table>\n",
       "</div>"
      ],
      "text/plain": [
       "Empty DataFrame\n",
       "Columns: []\n",
       "Index: []"
      ]
     },
     "execution_count": 11,
     "metadata": {},
     "output_type": "execute_result"
    }
   ],
   "source": [
    "spark.sql(\"\"\"\n",
    "CREATE OR REPLACE TEMPORARY VIEW trips_table USING csv\n",
    "OPTIONS (path \"/data/yellow_tripdata_sample_2019_02.csv\", header true);\n",
    "\"\"\").toPandas()"
   ]
  },
  {
   "cell_type": "markdown",
   "id": "a56a3039-88bb-4c24-aee1-8c570266a317",
   "metadata": {},
   "source": [
    "# Merge / Append "
   ]
  },
  {
   "cell_type": "code",
   "execution_count": 12,
   "id": "c6f39f00-3ca7-415d-ae6a-ce1f2a2c1e39",
   "metadata": {
    "execution": {
     "iopub.execute_input": "2023-12-07T21:42:07.551700Z",
     "iopub.status.busy": "2023-12-07T21:42:07.551403Z",
     "iopub.status.idle": "2023-12-07T21:42:08.377215Z",
     "shell.execute_reply": "2023-12-07T21:42:08.376447Z",
     "shell.execute_reply.started": "2023-12-07T21:42:07.551673Z"
    },
    "tags": []
   },
   "outputs": [
    {
     "data": {
      "text/html": [
       "<div>\n",
       "<style scoped>\n",
       "    .dataframe tbody tr th:only-of-type {\n",
       "        vertical-align: middle;\n",
       "    }\n",
       "\n",
       "    .dataframe tbody tr th {\n",
       "        vertical-align: top;\n",
       "    }\n",
       "\n",
       "    .dataframe thead th {\n",
       "        text-align: right;\n",
       "    }\n",
       "</style>\n",
       "<table border=\"1\" class=\"dataframe\">\n",
       "  <thead>\n",
       "    <tr style=\"text-align: right;\">\n",
       "      <th></th>\n",
       "    </tr>\n",
       "  </thead>\n",
       "  <tbody>\n",
       "  </tbody>\n",
       "</table>\n",
       "</div>"
      ],
      "text/plain": [
       "Empty DataFrame\n",
       "Columns: []\n",
       "Index: []"
      ]
     },
     "execution_count": 12,
     "metadata": {},
     "output_type": "execute_result"
    }
   ],
   "source": [
    "spark.sql(\"\"\"\n",
    "WITH changes AS (\n",
    "    SELECT\n",
    "        CAST(vendor_id AS INT),\n",
    "        CAST(pickup_datetime AS TIMESTAMP),\n",
    "        CAST(dropoff_datetime AS TIMESTAMP),\n",
    "        CAST(passenger_count AS INT),\n",
    "        CAST(pickup_location_id AS INT),\n",
    "        CAST(dropoff_location_id AS INT),\n",
    "        CAST(fare_amount AS FLOAT)\n",
    "    FROM trips_table\n",
    ")\n",
    "\n",
    "MERGE INTO taxis.trips t\n",
    "USING changes s\n",
    "ON\n",
    "    t.vendor_id           = s.vendor_id AND\n",
    "    t.pickup_datetime     = s.pickup_datetime AND\n",
    "    t.dropoff_datetime    = s.dropoff_datetime AND\n",
    "    t.pickup_location_id  = s.pickup_location_id AND\n",
    "    t.dropoff_location_id = s.dropoff_location_id\n",
    "WHEN NOT MATCHED THEN INSERT *\n",
    "\"\"\").toPandas()"
   ]
  },
  {
   "cell_type": "code",
   "execution_count": 13,
   "id": "c175a106-4999-475d-8032-6205868d272e",
   "metadata": {
    "execution": {
     "iopub.execute_input": "2023-12-07T21:42:08.586787Z",
     "iopub.status.busy": "2023-12-07T21:42:08.585934Z",
     "iopub.status.idle": "2023-12-07T21:42:08.685891Z",
     "shell.execute_reply": "2023-12-07T21:42:08.685315Z",
     "shell.execute_reply.started": "2023-12-07T21:42:08.586740Z"
    }
   },
   "outputs": [
    {
     "data": {
      "text/html": [
       "<div>\n",
       "<style scoped>\n",
       "    .dataframe tbody tr th:only-of-type {\n",
       "        vertical-align: middle;\n",
       "    }\n",
       "\n",
       "    .dataframe tbody tr th {\n",
       "        vertical-align: top;\n",
       "    }\n",
       "\n",
       "    .dataframe thead th {\n",
       "        text-align: right;\n",
       "    }\n",
       "</style>\n",
       "<table border=\"1\" class=\"dataframe\">\n",
       "  <thead>\n",
       "    <tr style=\"text-align: right;\">\n",
       "      <th></th>\n",
       "      <th>count(1)</th>\n",
       "    </tr>\n",
       "  </thead>\n",
       "  <tbody>\n",
       "    <tr>\n",
       "      <th>0</th>\n",
       "      <td>20</td>\n",
       "    </tr>\n",
       "  </tbody>\n",
       "</table>\n",
       "</div>"
      ],
      "text/plain": [
       "   count(1)\n",
       "0        20"
      ]
     },
     "execution_count": 13,
     "metadata": {},
     "output_type": "execute_result"
    }
   ],
   "source": [
    "spark.sql(\"SELECT COUNT(*) FROM taxis.trips;\").toPandas()"
   ]
  },
  {
   "cell_type": "code",
   "execution_count": 14,
   "id": "34daea38-fa11-4c44-8688-d65844ea0065",
   "metadata": {
    "execution": {
     "iopub.execute_input": "2023-12-07T21:42:08.716867Z",
     "iopub.status.busy": "2023-12-07T21:42:08.716587Z",
     "iopub.status.idle": "2023-12-07T21:42:08.728900Z",
     "shell.execute_reply": "2023-12-07T21:42:08.728141Z",
     "shell.execute_reply.started": "2023-12-07T21:42:08.716847Z"
    },
    "tags": []
   },
   "outputs": [],
   "source": [
    "df_main = spark.table(\"taxis.trips\")"
   ]
  },
  {
   "cell_type": "code",
   "execution_count": 17,
   "id": "5b1e2f9b-b471-4316-843d-1c9a76ea2b34",
   "metadata": {
    "execution": {
     "iopub.execute_input": "2023-12-07T21:42:24.201339Z",
     "iopub.status.busy": "2023-12-07T21:42:24.200016Z",
     "iopub.status.idle": "2023-12-07T21:42:24.209515Z",
     "shell.execute_reply": "2023-12-07T21:42:24.207922Z",
     "shell.execute_reply.started": "2023-12-07T21:42:24.201271Z"
    },
    "tags": []
   },
   "outputs": [],
   "source": [
    "all_cols = set(df_main.columns)\n",
    "skip_cols = set([\"passenger_count\", \"fare_amount\"])"
   ]
  },
  {
   "cell_type": "code",
   "execution_count": 18,
   "id": "0e04829d-f1e4-4c37-b088-56f1fb3c105e",
   "metadata": {
    "execution": {
     "iopub.execute_input": "2023-12-07T21:42:24.612825Z",
     "iopub.status.busy": "2023-12-07T21:42:24.610533Z",
     "iopub.status.idle": "2023-12-07T21:42:24.623382Z",
     "shell.execute_reply": "2023-12-07T21:42:24.620311Z",
     "shell.execute_reply.started": "2023-12-07T21:42:24.612717Z"
    },
    "tags": []
   },
   "outputs": [],
   "source": [
    "salt_cols = list(all_cols - skip_cols)"
   ]
  },
  {
   "cell_type": "code",
   "execution_count": 19,
   "id": "638cd40f-389a-4334-bc2c-9ec7d4398a43",
   "metadata": {
    "execution": {
     "iopub.execute_input": "2023-12-07T21:42:24.943551Z",
     "iopub.status.busy": "2023-12-07T21:42:24.941251Z",
     "iopub.status.idle": "2023-12-07T21:42:25.040695Z",
     "shell.execute_reply": "2023-12-07T21:42:25.040042Z",
     "shell.execute_reply.started": "2023-12-07T21:42:24.943435Z"
    },
    "tags": []
   },
   "outputs": [],
   "source": [
    "df_main = (\n",
    "    df_main\n",
    "    .withColumn('salted_id', F.sha2(F.concat_ws('_', *salt_cols), 512))\n",
    ")"
   ]
  },
  {
   "cell_type": "code",
   "execution_count": 21,
   "id": "a9ee1265-c353-40f5-95b4-e884a9e3225a",
   "metadata": {
    "execution": {
     "iopub.execute_input": "2023-12-07T21:43:09.552832Z",
     "iopub.status.busy": "2023-12-07T21:43:09.552415Z",
     "iopub.status.idle": "2023-12-07T21:43:09.839822Z",
     "shell.execute_reply": "2023-12-07T21:43:09.839078Z",
     "shell.execute_reply.started": "2023-12-07T21:43:09.552794Z"
    },
    "tags": []
   },
   "outputs": [],
   "source": [
    "df_main.write.saveAsTable(\"taxis.trips\", mode=\"overwrite\")"
   ]
  },
  {
   "cell_type": "markdown",
   "id": "9a110abc-b2ab-47b6-8dbf-9c393f9227cd",
   "metadata": {},
   "source": [
    "# Prepare 3rd batch "
   ]
  },
  {
   "cell_type": "code",
   "execution_count": 22,
   "id": "632701b1-e750-4a27-8ae0-2ec6edb9fdfc",
   "metadata": {
    "execution": {
     "iopub.execute_input": "2023-12-07T21:45:53.098655Z",
     "iopub.status.busy": "2023-12-07T21:45:53.097406Z",
     "iopub.status.idle": "2023-12-07T21:45:53.271493Z",
     "shell.execute_reply": "2023-12-07T21:45:53.270005Z",
     "shell.execute_reply.started": "2023-12-07T21:45:53.098606Z"
    }
   },
   "outputs": [
    {
     "data": {
      "text/html": [
       "<div>\n",
       "<style scoped>\n",
       "    .dataframe tbody tr th:only-of-type {\n",
       "        vertical-align: middle;\n",
       "    }\n",
       "\n",
       "    .dataframe tbody tr th {\n",
       "        vertical-align: top;\n",
       "    }\n",
       "\n",
       "    .dataframe thead th {\n",
       "        text-align: right;\n",
       "    }\n",
       "</style>\n",
       "<table border=\"1\" class=\"dataframe\">\n",
       "  <thead>\n",
       "    <tr style=\"text-align: right;\">\n",
       "      <th></th>\n",
       "    </tr>\n",
       "  </thead>\n",
       "  <tbody>\n",
       "  </tbody>\n",
       "</table>\n",
       "</div>"
      ],
      "text/plain": [
       "Empty DataFrame\n",
       "Columns: []\n",
       "Index: []"
      ]
     },
     "execution_count": 22,
     "metadata": {},
     "output_type": "execute_result"
    }
   ],
   "source": [
    "spark.sql(\"\"\"\n",
    "CREATE OR REPLACE TEMPORARY VIEW trips_table USING csv\n",
    "OPTIONS (path \"/data/yellow_tripdata_sample_2019_02-updates.csv\", header true);\n",
    "\"\"\").toPandas()"
   ]
  },
  {
   "cell_type": "code",
   "execution_count": 24,
   "id": "c7121676-e453-44b9-a5f3-f0b90664ee1f",
   "metadata": {
    "execution": {
     "iopub.execute_input": "2023-12-07T21:46:02.737901Z",
     "iopub.status.busy": "2023-12-07T21:46:02.737124Z",
     "iopub.status.idle": "2023-12-07T21:46:02.784910Z",
     "shell.execute_reply": "2023-12-07T21:46:02.783946Z",
     "shell.execute_reply.started": "2023-12-07T21:46:02.737824Z"
    },
    "tags": []
   },
   "outputs": [],
   "source": [
    "df_changes = spark.table(\"trips_table\")\n",
    "df_changes = (\n",
    "    df_changes\n",
    "    .withColumn('salted_id', F.sha2(F.concat_ws('_', *salt_cols), 512))\n",
    ")"
   ]
  },
  {
   "cell_type": "code",
   "execution_count": 27,
   "id": "8acb9a96-cf4e-4273-bc07-48b525b4fe48",
   "metadata": {
    "execution": {
     "iopub.execute_input": "2023-12-07T21:50:02.141062Z",
     "iopub.status.busy": "2023-12-07T21:50:02.140494Z",
     "iopub.status.idle": "2023-12-07T21:50:02.155157Z",
     "shell.execute_reply": "2023-12-07T21:50:02.154017Z",
     "shell.execute_reply.started": "2023-12-07T21:50:02.140980Z"
    },
    "tags": []
   },
   "outputs": [],
   "source": [
    "df_changes.createOrReplaceTempView(\"trips_table\")"
   ]
  },
  {
   "cell_type": "markdown",
   "id": "9d9540bf-c735-4d89-a578-4acba0a14895",
   "metadata": {},
   "source": [
    "# Merge / Update "
   ]
  },
  {
   "cell_type": "code",
   "execution_count": 41,
   "id": "f980cba9-fec0-4da4-b364-1dfa029cb445",
   "metadata": {
    "execution": {
     "iopub.execute_input": "2023-12-07T22:35:22.828816Z",
     "iopub.status.busy": "2023-12-07T22:35:22.827706Z",
     "iopub.status.idle": "2023-12-07T22:35:23.726824Z",
     "shell.execute_reply": "2023-12-07T22:35:23.726062Z",
     "shell.execute_reply.started": "2023-12-07T22:35:22.828769Z"
    },
    "tags": []
   },
   "outputs": [
    {
     "data": {
      "text/html": [
       "<div>\n",
       "<style scoped>\n",
       "    .dataframe tbody tr th:only-of-type {\n",
       "        vertical-align: middle;\n",
       "    }\n",
       "\n",
       "    .dataframe tbody tr th {\n",
       "        vertical-align: top;\n",
       "    }\n",
       "\n",
       "    .dataframe thead th {\n",
       "        text-align: right;\n",
       "    }\n",
       "</style>\n",
       "<table border=\"1\" class=\"dataframe\">\n",
       "  <thead>\n",
       "    <tr style=\"text-align: right;\">\n",
       "      <th></th>\n",
       "    </tr>\n",
       "  </thead>\n",
       "  <tbody>\n",
       "  </tbody>\n",
       "</table>\n",
       "</div>"
      ],
      "text/plain": [
       "Empty DataFrame\n",
       "Columns: []\n",
       "Index: []"
      ]
     },
     "execution_count": 41,
     "metadata": {},
     "output_type": "execute_result"
    }
   ],
   "source": [
    "spark.sql(\"\"\"\n",
    "WITH changes AS (\n",
    "    SELECT\n",
    "        COALESCE(s.salted_id, t.salted_id) AS salted_id,\n",
    "        CAST(s.vendor_id AS INT),\n",
    "        CAST(s.pickup_datetime AS TIMESTAMP),\n",
    "        CAST(s.dropoff_datetime AS TIMESTAMP),\n",
    "        CAST(s.passenger_count AS INT),\n",
    "        CAST(s.pickup_location_id AS INT),\n",
    "        CAST(s.dropoff_location_id AS INT),\n",
    "        CAST(s.fare_amount AS FLOAT)\n",
    "    FROM trips_table AS s\n",
    "    FULL OUTER JOIN taxis.trips AS t ON s.salted_id = t.salted_id\n",
    ")\n",
    "MERGE INTO taxis.trips t\n",
    "USING changes s\n",
    "ON\n",
    "    t.salted_id = s.salted_id\n",
    "WHEN NOT MATCHED THEN INSERT *\n",
    "\"\"\").toPandas()"
   ]
  },
  {
   "cell_type": "code",
   "execution_count": 43,
   "id": "121921e1-df72-48cd-9426-38e6bd0f5efa",
   "metadata": {
    "execution": {
     "iopub.execute_input": "2023-12-07T22:35:52.077251Z",
     "iopub.status.busy": "2023-12-07T22:35:52.076238Z",
     "iopub.status.idle": "2023-12-07T22:35:52.165921Z",
     "shell.execute_reply": "2023-12-07T22:35:52.164662Z",
     "shell.execute_reply.started": "2023-12-07T22:35:52.077188Z"
    },
    "tags": []
   },
   "outputs": [
    {
     "data": {
      "text/html": [
       "<div>\n",
       "<style scoped>\n",
       "    .dataframe tbody tr th:only-of-type {\n",
       "        vertical-align: middle;\n",
       "    }\n",
       "\n",
       "    .dataframe tbody tr th {\n",
       "        vertical-align: top;\n",
       "    }\n",
       "\n",
       "    .dataframe thead th {\n",
       "        text-align: right;\n",
       "    }\n",
       "</style>\n",
       "<table border=\"1\" class=\"dataframe\">\n",
       "  <thead>\n",
       "    <tr style=\"text-align: right;\">\n",
       "      <th></th>\n",
       "      <th>count(1)</th>\n",
       "    </tr>\n",
       "  </thead>\n",
       "  <tbody>\n",
       "    <tr>\n",
       "      <th>0</th>\n",
       "      <td>20</td>\n",
       "    </tr>\n",
       "  </tbody>\n",
       "</table>\n",
       "</div>"
      ],
      "text/plain": [
       "   count(1)\n",
       "0        20"
      ]
     },
     "execution_count": 43,
     "metadata": {},
     "output_type": "execute_result"
    }
   ],
   "source": [
    "spark.sql(\"SELECT COUNT(*) FROM taxis.trips;\").toPandas()"
   ]
  },
  {
   "cell_type": "code",
   "execution_count": null,
   "id": "8e1d7653-993a-4343-b6bd-106ecc988b97",
   "metadata": {},
   "outputs": [],
   "source": []
  }
 ],
 "metadata": {
  "kernelspec": {
   "display_name": "Python 3 (ipykernel)",
   "language": "python",
   "name": "python3"
  },
  "language_info": {
   "codemirror_mode": {
    "name": "ipython",
    "version": 3
   },
   "file_extension": ".py",
   "mimetype": "text/x-python",
   "name": "python",
   "nbconvert_exporter": "python",
   "pygments_lexer": "ipython3",
   "version": "3.10.12"
  }
 },
 "nbformat": 4,
 "nbformat_minor": 5
}
